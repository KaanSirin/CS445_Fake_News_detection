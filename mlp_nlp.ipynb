{
 "cells": [
  {
   "cell_type": "markdown",
   "metadata": {},
   "source": [
    "## Data Loading"
   ]
  },
  {
   "cell_type": "code",
   "execution_count": 1,
   "metadata": {},
   "outputs": [
    {
     "name": "stderr",
     "output_type": "stream",
     "text": [
      "/Library/Frameworks/Python.framework/Versions/3.11/lib/python3.11/site-packages/tqdm/auto.py:21: TqdmWarning: IProgress not found. Please update jupyter and ipywidgets. See https://ipywidgets.readthedocs.io/en/stable/user_install.html\n",
      "  from .autonotebook import tqdm as notebook_tqdm\n"
     ]
    },
    {
     "name": "stdout",
     "output_type": "stream",
     "text": [
      "Train size: 18369\n",
      "Validation size: 2297\n",
      "Test size: 2296\n",
      "\n",
      "Columns: ['id', 'label', 'statement', 'date', 'subject', 'speaker', 'speaker_description', 'state_info', 'true_counts', 'mostly_true_counts', 'half_true_counts', 'mostly_false_counts', 'false_counts', 'pants_on_fire_counts', 'context', 'justification']\n"
     ]
    }
   ],
   "source": [
    "import pandas as pd\n",
    "import numpy as np\n",
    "\n",
    "splits = {\n",
    "    'train': 'train.csv',\n",
    "    'validation': 'valid.csv',\n",
    "    'test': 'test.csv'\n",
    "}\n",
    "\n",
    "def load_liar2_data():\n",
    "    \"\"\"Load the LIAR-2 train/val/test splits into dataframes.\"\"\"\n",
    "    train_df = pd.read_csv(\"hf://datasets/chengxuphd/liar2/\" + splits[\"train\"])\n",
    "    val_df   = pd.read_csv(\"hf://datasets/chengxuphd/liar2/\" + splits[\"validation\"])\n",
    "    test_df  = pd.read_csv(\"hf://datasets/chengxuphd/liar2/\" + splits[\"test\"])\n",
    "    return train_df, val_df, test_df\n",
    "\n",
    "train_df, val_df, test_df = load_liar2_data()\n",
    "\n",
    "print(\"Train size:\", len(train_df))\n",
    "print(\"Validation size:\", len(val_df))\n",
    "print(\"Test size:\", len(test_df))\n",
    "print(\"\\nColumns:\", train_df.columns.tolist())\n",
    "\n",
    "target_names = [\"Pants on fire\",\"False\",\"Barely-true\",\"Half-true\",\"Mostly-true\",\"True\"]\n"
   ]
  },
  {
   "cell_type": "markdown",
   "metadata": {},
   "source": [
    "## Preprocessing"
   ]
  },
  {
   "cell_type": "code",
   "execution_count": 2,
   "metadata": {},
   "outputs": [
    {
     "name": "stdout",
     "output_type": "stream",
     "text": [
      "Feature shape (train): (18369, 10001)\n",
      "Feature shape (val): (2297, 10001)\n",
      "Feature shape (test): (2296, 10001)\n",
      "Labels: [0, 1, 2, 3, 4, 5]\n"
     ]
    }
   ],
   "source": [
    "from sklearn.feature_extraction.text import CountVectorizer, TfidfVectorizer\n",
    "from sklearn.metrics.pairwise import cosine_similarity\n",
    "import re\n",
    "\n",
    "MAX_FEATURES = 5000\n",
    "\n",
    "def prepare_text_fields(df):\n",
    "    \"\"\"\n",
    "    Concatenate several text fields into a single string for the 'body'.\n",
    "    Minimal cleaning is done here.\n",
    "    \"\"\"\n",
    "    df = df.fillna(\"\")  # Just in case of missing values\n",
    "    # For 'headline' we will use the 'statement' as-is.\n",
    "    headline_texts = df[\"statement\"].astype(str).tolist()\n",
    "    \n",
    "    # For 'body' we can combine subject, speaker, justification, etc.\n",
    "    # Adjust this as you like:\n",
    "    body_texts = (\n",
    "        df[\"subject\"].astype(str) + \" \" + \n",
    "        df[\"speaker\"].astype(str) + \" \" +\n",
    "        df[\"justification\"].astype(str)\n",
    "    ).tolist()\n",
    "    \n",
    "    return headline_texts, body_texts\n",
    "\n",
    "# Prepare train, val, test text\n",
    "train_headlines, train_bodies = prepare_text_fields(train_df)\n",
    "val_headlines,   val_bodies   = prepare_text_fields(val_df)\n",
    "test_headlines,  test_bodies  = prepare_text_fields(test_df)\n",
    "\n",
    "# ----- Step 1: Fit a CountVectorizer for TF on the training set -----\n",
    "count_vect_headline = CountVectorizer(\n",
    "    max_features=MAX_FEATURES, stop_words='english'\n",
    ")\n",
    "count_vect_body = CountVectorizer(\n",
    "    max_features=MAX_FEATURES, stop_words='english'\n",
    ")\n",
    "\n",
    "# Learn vocab and transform to TF counts\n",
    "train_tf_headline = count_vect_headline.fit_transform(train_headlines)\n",
    "train_tf_body     = count_vect_body.fit_transform(train_bodies)\n",
    "\n",
    "# Validation / test transformation (using training vocab)\n",
    "val_tf_headline   = count_vect_headline.transform(val_headlines)\n",
    "val_tf_body       = count_vect_body.transform(val_bodies)\n",
    "test_tf_headline  = count_vect_headline.transform(test_headlines)\n",
    "test_tf_body      = count_vect_body.transform(test_bodies)\n",
    "\n",
    "# ----- Step 2: Fit a TfidfVectorizer to compute TF-IDF for the cos sim -----\n",
    "tfidf_vect_headline = TfidfVectorizer(\n",
    "    max_features=MAX_FEATURES, stop_words='english', norm='l2'\n",
    ")\n",
    "tfidf_vect_body = TfidfVectorizer(\n",
    "    max_features=MAX_FEATURES, stop_words='english', norm='l2'\n",
    ")\n",
    "\n",
    "train_tfidf_headline = tfidf_vect_headline.fit_transform(train_headlines)\n",
    "train_tfidf_body     = tfidf_vect_body.fit_transform(train_bodies)\n",
    "\n",
    "val_tfidf_headline   = tfidf_vect_headline.transform(val_headlines)\n",
    "val_tfidf_body       = tfidf_vect_body.transform(val_bodies)\n",
    "\n",
    "test_tfidf_headline  = tfidf_vect_headline.transform(test_headlines)\n",
    "test_tfidf_body      = tfidf_vect_body.transform(test_bodies)\n",
    "\n",
    "# ----- Step 3: Compute Cosine Similarities -----\n",
    "# We'll compute the similarity row-by-row (headline vs body).\n",
    "# Careful: each row is a sparse vector. We'll convert each row to 1D dense for the similarity.\n",
    "\n",
    "def row_cosine_sim(tfidfA, tfidfB):\n",
    "    # tfidfA, tfidfB are each (N, dim)\n",
    "    # We'll return an array of shape (N, 1) with cos sims.\n",
    "    sims = []\n",
    "    for i in range(tfidfA.shape[0]):\n",
    "        # Extract row i as dense\n",
    "        A = tfidfA[i].toarray()\n",
    "        B = tfidfB[i].toarray()\n",
    "        # Cosine similarity for this row\n",
    "        sim = cosine_similarity(A, B)[0,0]\n",
    "        sims.append(sim)\n",
    "    return np.array(sims).reshape(-1, 1)\n",
    "\n",
    "train_cos_sim = row_cosine_sim(train_tfidf_headline, train_tfidf_body)\n",
    "val_cos_sim   = row_cosine_sim(val_tfidf_headline,   val_tfidf_body)\n",
    "test_cos_sim  = row_cosine_sim(test_tfidf_headline,  test_tfidf_body)\n",
    "\n",
    "# ----- Step 4: Final Feature Vectors = [TF_headline, TF_body, cos_sim] -----\n",
    "import scipy.sparse as sp\n",
    "\n",
    "train_X = sp.hstack([train_tf_headline, train_tf_body, train_cos_sim])\n",
    "val_X   = sp.hstack([val_tf_headline,   val_tf_body,   val_cos_sim])\n",
    "test_X  = sp.hstack([test_tf_headline,  test_tf_body,  test_cos_sim])\n",
    "\n",
    "# Encode labels numerically\n",
    "from sklearn.preprocessing import LabelEncoder\n",
    "\n",
    "label_encoder = LabelEncoder()\n",
    "train_y = label_encoder.fit_transform(train_df[\"label\"].tolist())\n",
    "val_y   = label_encoder.transform(val_df[\"label\"].tolist())\n",
    "test_y  = label_encoder.transform(test_df[\"label\"].tolist())\n",
    "\n",
    "print(\"Feature shape (train):\", train_X.shape)\n",
    "print(\"Feature shape (val):\", val_X.shape)\n",
    "print(\"Feature shape (test):\", test_X.shape)\n",
    "print(\"Labels:\", list(label_encoder.classes_))\n"
   ]
  },
  {
   "cell_type": "markdown",
   "metadata": {},
   "source": [
    "## Single-Layer MLP Classifier"
   ]
  },
  {
   "cell_type": "code",
   "execution_count": 3,
   "metadata": {},
   "outputs": [
    {
     "name": "stderr",
     "output_type": "stream",
     "text": [
      "2025-01-03 21:30:15.020665: I tensorflow/core/platform/cpu_feature_guard.cc:210] This TensorFlow binary is optimized to use available CPU instructions in performance-critical operations.\n",
      "To enable the following instructions: AVX2 FMA, in other operations, rebuild TensorFlow with the appropriate compiler flags.\n",
      "/Library/Frameworks/Python.framework/Versions/3.11/lib/python3.11/site-packages/keras/src/layers/core/input_layer.py:27: UserWarning: Argument `input_shape` is deprecated. Use `shape` instead.\n",
      "  warnings.warn(\n"
     ]
    },
    {
     "name": "stdout",
     "output_type": "stream",
     "text": [
      "Epoch 1/20\n",
      "\u001b[1m37/37\u001b[0m \u001b[32m━━━━━━━━━━━━━━━━━━━━\u001b[0m\u001b[37m\u001b[0m \u001b[1m2s\u001b[0m 28ms/step - accuracy: 0.3855 - loss: 1.5667 - val_accuracy: 0.5276 - val_loss: 1.4212\n",
      "Epoch 2/20\n",
      "\u001b[1m37/37\u001b[0m \u001b[32m━━━━━━━━━━━━━━━━━━━━\u001b[0m\u001b[37m\u001b[0m \u001b[1m1s\u001b[0m 21ms/step - accuracy: 0.6165 - loss: 1.2437 - val_accuracy: 0.5333 - val_loss: 1.5040\n",
      "Epoch 3/20\n",
      "\u001b[1m37/37\u001b[0m \u001b[32m━━━━━━━━━━━━━━━━━━━━\u001b[0m\u001b[37m\u001b[0m \u001b[1m1s\u001b[0m 21ms/step - accuracy: 0.6985 - loss: 1.1385 - val_accuracy: 0.5224 - val_loss: 1.6254\n",
      "Epoch 4/20\n",
      "\u001b[1m37/37\u001b[0m \u001b[32m━━━━━━━━━━━━━━━━━━━━\u001b[0m\u001b[37m\u001b[0m \u001b[1m1s\u001b[0m 27ms/step - accuracy: 0.7348 - loss: 1.1113 - val_accuracy: 0.5259 - val_loss: 1.7245\n",
      "Epoch 5/20\n",
      "\u001b[1m37/37\u001b[0m \u001b[32m━━━━━━━━━━━━━━━━━━━━\u001b[0m\u001b[37m\u001b[0m \u001b[1m1s\u001b[0m 26ms/step - accuracy: 0.7663 - loss: 1.0965 - val_accuracy: 0.5329 - val_loss: 1.7797\n",
      "Epoch 6/20\n",
      "\u001b[1m37/37\u001b[0m \u001b[32m━━━━━━━━━━━━━━━━━━━━\u001b[0m\u001b[37m\u001b[0m \u001b[1m1s\u001b[0m 28ms/step - accuracy: 0.7754 - loss: 1.1043 - val_accuracy: 0.5268 - val_loss: 1.8582\n",
      "Epoch 7/20\n",
      "\u001b[1m37/37\u001b[0m \u001b[32m━━━━━━━━━━━━━━━━━━━━\u001b[0m\u001b[37m\u001b[0m \u001b[1m1s\u001b[0m 22ms/step - accuracy: 0.7872 - loss: 1.1200 - val_accuracy: 0.5324 - val_loss: 1.9441\n",
      "Epoch 8/20\n",
      "\u001b[1m37/37\u001b[0m \u001b[32m━━━━━━━━━━━━━━━━━━━━\u001b[0m\u001b[37m\u001b[0m \u001b[1m1s\u001b[0m 21ms/step - accuracy: 0.7900 - loss: 1.1406 - val_accuracy: 0.5255 - val_loss: 1.9784\n",
      "Epoch 9/20\n",
      "\u001b[1m37/37\u001b[0m \u001b[32m━━━━━━━━━━━━━━━━━━━━\u001b[0m\u001b[37m\u001b[0m \u001b[1m1s\u001b[0m 23ms/step - accuracy: 0.7879 - loss: 1.1565 - val_accuracy: 0.5215 - val_loss: 2.0217\n",
      "Epoch 10/20\n",
      "\u001b[1m37/37\u001b[0m \u001b[32m━━━━━━━━━━━━━━━━━━━━\u001b[0m\u001b[37m\u001b[0m \u001b[1m1s\u001b[0m 21ms/step - accuracy: 0.8072 - loss: 1.1397 - val_accuracy: 0.5168 - val_loss: 2.0287\n",
      "Epoch 11/20\n",
      "\u001b[1m37/37\u001b[0m \u001b[32m━━━━━━━━━━━━━━━━━━━━\u001b[0m\u001b[37m\u001b[0m \u001b[1m1s\u001b[0m 23ms/step - accuracy: 0.7944 - loss: 1.1775 - val_accuracy: 0.5237 - val_loss: 2.0881\n",
      "Epoch 12/20\n",
      "\u001b[1m37/37\u001b[0m \u001b[32m━━━━━━━━━━━━━━━━━━━━\u001b[0m\u001b[37m\u001b[0m \u001b[1m1s\u001b[0m 21ms/step - accuracy: 0.8005 - loss: 1.1660 - val_accuracy: 0.5189 - val_loss: 2.0856\n",
      "Epoch 13/20\n",
      "\u001b[1m37/37\u001b[0m \u001b[32m━━━━━━━━━━━━━━━━━━━━\u001b[0m\u001b[37m\u001b[0m \u001b[1m1s\u001b[0m 21ms/step - accuracy: 0.8021 - loss: 1.1806 - val_accuracy: 0.5194 - val_loss: 2.0824\n",
      "Epoch 14/20\n",
      "\u001b[1m37/37\u001b[0m \u001b[32m━━━━━━━━━━━━━━━━━━━━\u001b[0m\u001b[37m\u001b[0m \u001b[1m1s\u001b[0m 21ms/step - accuracy: 0.8130 - loss: 1.1682 - val_accuracy: 0.5189 - val_loss: 2.0706\n",
      "Epoch 15/20\n",
      "\u001b[1m37/37\u001b[0m \u001b[32m━━━━━━━━━━━━━━━━━━━━\u001b[0m\u001b[37m\u001b[0m \u001b[1m1s\u001b[0m 21ms/step - accuracy: 0.8029 - loss: 1.1817 - val_accuracy: 0.5107 - val_loss: 2.1233\n",
      "Epoch 16/20\n",
      "\u001b[1m37/37\u001b[0m \u001b[32m━━━━━━━━━━━━━━━━━━━━\u001b[0m\u001b[37m\u001b[0m \u001b[1m1s\u001b[0m 24ms/step - accuracy: 0.8033 - loss: 1.1952 - val_accuracy: 0.5229 - val_loss: 2.1236\n",
      "Epoch 17/20\n",
      "\u001b[1m37/37\u001b[0m \u001b[32m━━━━━━━━━━━━━━━━━━━━\u001b[0m\u001b[37m\u001b[0m \u001b[1m1s\u001b[0m 23ms/step - accuracy: 0.7981 - loss: 1.2071 - val_accuracy: 0.5163 - val_loss: 2.1397\n",
      "Epoch 18/20\n",
      "\u001b[1m37/37\u001b[0m \u001b[32m━━━━━━━━━━━━━━━━━━━━\u001b[0m\u001b[37m\u001b[0m \u001b[1m1s\u001b[0m 26ms/step - accuracy: 0.8098 - loss: 1.1981 - val_accuracy: 0.5198 - val_loss: 2.1839\n",
      "Epoch 19/20\n",
      "\u001b[1m37/37\u001b[0m \u001b[32m━━━━━━━━━━━━━━━━━━━━\u001b[0m\u001b[37m\u001b[0m \u001b[1m1s\u001b[0m 22ms/step - accuracy: 0.8027 - loss: 1.2092 - val_accuracy: 0.5159 - val_loss: 2.2072\n",
      "Epoch 20/20\n",
      "\u001b[1m37/37\u001b[0m \u001b[32m━━━━━━━━━━━━━━━━━━━━\u001b[0m\u001b[37m\u001b[0m \u001b[1m1s\u001b[0m 22ms/step - accuracy: 0.8093 - loss: 1.1902 - val_accuracy: 0.5229 - val_loss: 2.1681\n",
      "\n",
      "Test Accuracy: 0.5322\n"
     ]
    }
   ],
   "source": [
    "import tensorflow as tf\n",
    "from tensorflow import keras\n",
    "\n",
    "# Hyperparameters from the paper (roughly)\n",
    "hidden_size = 100\n",
    "dropout_rate = 0.6\n",
    "l2_alpha = 1e-4\n",
    "learning_rate = 1e-2\n",
    "batch_size = 500\n",
    "epochs = 20\n",
    "\n",
    "num_features = train_X.shape[1]\n",
    "num_classes = len(label_encoder.classes_)\n",
    "\n",
    "# Build the model\n",
    "model = keras.Sequential([\n",
    "    # Input layer\n",
    "    keras.layers.InputLayer(input_shape=(num_features,)),\n",
    "    \n",
    "    # Hidden layer\n",
    "    keras.layers.Dense(\n",
    "        hidden_size, \n",
    "        activation='relu',\n",
    "        kernel_regularizer=keras.regularizers.l2(l2_alpha)\n",
    "    ),\n",
    "    keras.layers.Dropout(dropout_rate),\n",
    "    \n",
    "    # Output layer\n",
    "    keras.layers.Dense(\n",
    "        num_classes, \n",
    "        activation='softmax',\n",
    "        kernel_regularizer=keras.regularizers.l2(l2_alpha)\n",
    "    )\n",
    "])\n",
    "\n",
    "optimizer = keras.optimizers.Adam(learning_rate=learning_rate)\n",
    "model.compile(\n",
    "    optimizer=optimizer,\n",
    "    loss='sparse_categorical_crossentropy',\n",
    "    metrics=['accuracy']\n",
    ")\n",
    "\n",
    "# Convert sparse matrices to CSR float32 for efficient conversion\n",
    "train_X_csr = train_X.astype('float32').tocsr()\n",
    "val_X_csr   = val_X.astype('float32').tocsr()\n",
    "test_X_csr  = test_X.astype('float32').tocsr()\n",
    "\n",
    "# We’ll convert them to dense on the fly in a generator (not memory-friendly for large data),\n",
    "# or, for small enough data, just do toarray(). For large data, you might use a tf.data pipeline.\n",
    "# For demonstration, we’ll do .toarray() here (assuming dataset is not huge).\n",
    "train_X_array = train_X_csr.toarray()\n",
    "val_X_array   = val_X_csr.toarray()\n",
    "test_X_array  = test_X_csr.toarray()\n",
    "\n",
    "history = model.fit(\n",
    "    train_X_array, train_y,\n",
    "    validation_data=(val_X_array, val_y),\n",
    "    epochs=epochs,\n",
    "    batch_size=batch_size,\n",
    "    verbose=1\n",
    ")\n",
    "\n",
    "# Evaluate on test set\n",
    "test_loss, test_acc = model.evaluate(test_X_array, test_y, verbose=0)\n",
    "print(f\"\\nTest Accuracy: {test_acc:.4f}\")\n"
   ]
  },
  {
   "cell_type": "code",
   "execution_count": 4,
   "metadata": {},
   "outputs": [
    {
     "name": "stdout",
     "output_type": "stream",
     "text": [
      "\u001b[1m72/72\u001b[0m \u001b[32m━━━━━━━━━━━━━━━━━━━━\u001b[0m\u001b[37m\u001b[0m \u001b[1m0s\u001b[0m 2ms/step\n"
     ]
    }
   ],
   "source": [
    "import numpy as np\n",
    "\n",
    "test_probs = model.predict(test_X_array)  # shape [n_samples, num_classes]\n",
    "test_preds = np.argmax(test_probs, axis=1)  # integer labels\n"
   ]
  },
  {
   "cell_type": "code",
   "execution_count": 5,
   "metadata": {},
   "outputs": [
    {
     "data": {
      "image/png": "[encoded data removed]",
      "text/plain": [
       "<Figure size 700x500 with 2 Axes>"
      ]
     },
     "metadata": {},
     "output_type": "display_data"
    }
   ],
   "source": [
    "from sklearn.metrics import confusion_matrix\n",
    "import seaborn as sns\n",
    "import matplotlib.pyplot as plt\n",
    "\n",
    "cm = confusion_matrix(test_y, test_preds)\n",
    "plt.figure(figsize=(7, 5))\n",
    "sns.heatmap(cm, annot=True, fmt=\"d\", \n",
    "            xticklabels=target_names, \n",
    "            yticklabels=target_names, cmap=\"Blues\")\n",
    "plt.xlabel(\"Predicted Label\")\n",
    "plt.ylabel(\"True Label\")\n",
    "plt.title(\"Confusion Matrix (Test Set)\")\n",
    "plt.show()\n"
   ]
  },
  {
   "cell_type": "code",
   "execution_count": 6,
   "metadata": {},
   "outputs": [
    {
     "name": "stdout",
     "output_type": "stream",
     "text": [
      "Test Accuracy (Keras evaluate): 0.5322\n",
      "Test Accuracy (sklearn): 0.5322299651567944\n"
     ]
    }
   ],
   "source": [
    "from sklearn.metrics import accuracy_score\n",
    "print(\"Test Accuracy (sklearn):\", accuracy_score(test_y, test_preds))\n"
   ]
  },
  {
   "cell_type": "code",
   "execution_count": 7,
   "metadata": {},
   "outputs": [
    {
     "name": "stdout",
     "output_type": "stream",
     "text": [
      "               precision    recall  f1-score   support\n",
      "\n",
      "Pants on fire       0.46      0.46      0.46       303\n",
      "        False       0.52      0.56      0.54       660\n",
      "  Barely-true       0.53      0.49      0.51       360\n",
      "    Half-true       0.51      0.50      0.50       371\n",
      "  Mostly-true       0.50      0.48      0.49       343\n",
      "         True       0.42      0.43      0.43       259\n",
      "\n",
      "     accuracy                           0.50      2296\n",
      "    macro avg       0.49      0.49      0.49      2296\n",
      " weighted avg       0.50      0.50      0.50      2296\n",
      "\n",
      "Top 10 features for label Pants on fire: ['6788', '4949', '7523', '6886', '7835', '9934', '7785', '8186', '6777', '6281']\n",
      "Top 10 features for label False: ['5105', '6211', '9119', '2282', '9289', '4362', '6535', '617', '2625', '7964']\n",
      "Top 10 features for label Barely-true: ['6681', '9266', '6887', '8743', '6106', '7323', '6209', '7549', '7077', '6586']\n",
      "Top 10 features for label Half-true: ['8162', '7316', '5701', '6109', '7648', '8232', '5392', '5529', '6378', '8277']\n",
      "Top 10 features for label Mostly-true: ['2908', '5620', '7611', '9235', '8094', '8052', '5822', '5224', '5821', '5927']\n",
      "Top 10 features for label True: ['4962', '9319', '3019', '5717', '5518', '9780', '8209', '6060', '8683', '7960']\n"
     ]
    }
   ],
   "source": [
    "from sklearn.linear_model import LogisticRegression\n",
    "from sklearn.metrics import classification_report, confusion_matrix\n",
    "\n",
    "lr_model = LogisticRegression(max_iter=1000)  # or tune as you wish\n",
    "lr_model.fit(train_X, train_y)  # can fit directly on the sparse matrix\n",
    "lr_preds = lr_model.predict(test_X)\n",
    "\n",
    "print(classification_report(test_y, lr_preds, target_names=target_names))\n",
    "\n",
    "# For top features (e.g., for label i) \n",
    "# The shape of lr_model.coef_ is [num_classes, num_features]\n",
    "coef_array = lr_model.coef_\n",
    "for idx, label_name in enumerate(target_names):\n",
    "    top10_idx = np.argsort(coef_array[idx])[-10:]      # largest positive 10\n",
    "    top10_feats = [str(i) for i in top10_idx]\n",
    "    print(f\"Top 10 features for label {label_name}: {top10_feats}\")\n"
   ]
  }
 ],
 "metadata": {
  "kernelspec": {
   "display_name": "Python 3",
   "language": "python",
   "name": "python3"
  },
  "language_info": {
   "codemirror_mode": {
    "name": "ipython",
    "version": 3
   },
   "file_extension": ".py",
   "mimetype": "text/x-python",
   "name": "python",
   "nbconvert_exporter": "python",
   "pygments_lexer": "ipython3",
   "version": "3.11.6"
  }
 },
 "nbformat": 4,
 "nbformat_minor": 2
}
