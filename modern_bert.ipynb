{
 "cells": [
  {
   "cell_type": "code",
   "execution_count": 1,
   "metadata": {},
   "outputs": [],
   "source": [
    "import pandas as pd"
   ]
  },
  {
   "cell_type": "code",
   "execution_count": 2,
   "metadata": {},
   "outputs": [],
   "source": [
    "column_names=[\n",
    "        'id',                # Column 1: the ID of the statement ([ID].json).\n",
    "        'label',             # Column 2: the label.\n",
    "        'statement',         # Column 3: the statement.\n",
    "        'subjects',          # Column 4: the subject(s).\n",
    "        'speaker',           # Column 5: the speaker.\n",
    "        'speaker_job_title', # Column 6: the speaker's job title.\n",
    "        'state_info',        # Column 7: the state info.\n",
    "        'party_affiliation', # Column 8: the party affiliation.\n",
    "        \n",
    "        # Column 9-13: the total credit history count, including the current statement.\n",
    "        'count_1', # barely true counts.\n",
    "        'count_2', # false counts.\n",
    "        'count_3', # half true counts.\n",
    "        'count_4', # mostly true counts.\n",
    "        'count_5', # pants on fire counts.\n",
    "\n",
    "        'context' # Column 14: the context (venue / location of the speech or statement).\n",
    "]\n",
    "\n",
    "train_data = pd.read_csv('./liar_dataset/train.tsv', sep='\\t', header=None, names=column_names)\n",
    "test_data  = pd.read_csv('./liar_dataset/test.tsv',  sep='\\t', header=None, names=column_names)\n",
    "valid_data = pd.read_csv('./liar_dataset/valid.tsv', sep='\\t', header=None, names=column_names)"
   ]
  },
  {
   "cell_type": "code",
   "execution_count": 3,
   "metadata": {},
   "outputs": [
    {
     "name": "stderr",
     "output_type": "stream",
     "text": [
      "/Library/Frameworks/Python.framework/Versions/3.11/lib/python3.11/site-packages/tqdm/auto.py:21: TqdmWarning: IProgress not found. Please update jupyter and ipywidgets. See https://ipywidgets.readthedocs.io/en/stable/user_install.html\n",
      "  from .autonotebook import tqdm as notebook_tqdm\n"
     ]
    }
   ],
   "source": [
    "from datasets import Dataset\n",
    "\n",
    "def preprocess_data(data:pd.DataFrame, six_way:bool=True):\n",
    "\n",
    "    # these data are not usable\n",
    "    data.drop(columns=[f'count_{i+1}' for i in range(5)], inplace=True)\n",
    "\n",
    "    # encoding output labels \n",
    "    if six_way:\n",
    "        numerical={'pants-fire': 0, 'false': 1, 'barely-true': 2, 'half-true': 3, 'mostly-true': 4, 'true': 5}\n",
    "        data['label'] = data['label'].map(numerical)\n",
    "    else:\n",
    "        true_labels= ['true', 'mostly-true', 'half-true']\n",
    "        data['label'] = data['label'].apply(lambda x: 1 if x in true_labels else 0)\n",
    "\n",
    "    # fill missing columns\n",
    "    data.fillna('',inplace=True)\n",
    "\n",
    "    # adding metadata\n",
    "    data['statement'] = data['statement'] + ' ' + data['speaker'] + ' ' + data['speaker_job_title'] + ' ' + data['state_info'] + ' ' + data['party_affiliation'] + ' ' + data['context']\n",
    "\n",
    "    # dropping every column other than label and statement\n",
    "    data.drop(columns=data.columns.difference(['label', 'statement']), inplace=True)\n",
    "\n",
    "    # data_dict= data.to_dict(orient='records')\n",
    "    # return data_dict\n",
    "    return Dataset.from_pandas(data)\n"
   ]
  },
  {
   "cell_type": "code",
   "execution_count": 4,
   "metadata": {},
   "outputs": [],
   "source": [
    "train_data= preprocess_data(train_data)\n",
    "test_data= preprocess_data(test_data)\n",
    "valid_data= preprocess_data(valid_data)"
   ]
  },
  {
   "cell_type": "code",
   "execution_count": 5,
   "metadata": {},
   "outputs": [
    {
     "name": "stderr",
     "output_type": "stream",
     "text": [
      "Some weights of ModernBertForSequenceClassification were not initialized from the model checkpoint at answerdotai/ModernBERT-base and are newly initialized: ['classifier.bias', 'classifier.weight']\n",
      "You should probably TRAIN this model on a down-stream task to be able to use it for predictions and inference.\n"
     ]
    }
   ],
   "source": [
    "from transformers import AutoTokenizer, AutoModelForSequenceClassification\n",
    "import torch\n",
    "\n",
    "# Step 0: Import the model and tokenizer\n",
    "\n",
    "model_id = \"answerdotai/ModernBERT-base\"\n",
    "tokenizer = AutoTokenizer.from_pretrained(model_id)\n",
    "model=AutoModelForSequenceClassification.from_pretrained(model_id, torch_dtype=torch.bfloat16)\n",
    "\n",
    "def tokenize(sample):\n",
    "    return tokenizer(sample['statement'], padding=True, truncation=True, max_length=1024)"
   ]
  },
  {
   "cell_type": "code",
   "execution_count": 6,
   "metadata": {},
   "outputs": [
    {
     "name": "stderr",
     "output_type": "stream",
     "text": [
      "Map: 100%|██████████| 10240/10240 [00:00<00:00, 14631.31 examples/s]\n",
      "Map: 100%|██████████| 1267/1267 [00:00<00:00, 7748.95 examples/s]\n",
      "Map: 100%|██████████| 1284/1284 [00:00<00:00, 23818.73 examples/s]\n"
     ]
    }
   ],
   "source": [
    "# Tokenize the data\n",
    "\n",
    "train_data= train_data.map(tokenize, batched=True)\n",
    "test_data= test_data.map(tokenize, batched=True)\n",
    "valid_data= valid_data.map(tokenize, batched=True)"
   ]
  },
  {
   "cell_type": "code",
   "execution_count": 7,
   "metadata": {},
   "outputs": [
    {
     "name": "stdout",
     "output_type": "stream",
     "text": [
      "[50281, 3039, 858, 253, 10343, 273, 10089, 1265, 32, 733, 3053, 672, 3626, 3678, 2335, 745, 326, 3053, 281, 3135, 275, 313, 20349, 6086, 411, 2698, 11301, 84, 5286, 15, 660, 1519, 14, 84, 1822, 39702, 2418, 24565, 9385, 8738, 255, 247, 5254, 6519, 15, 50282, 50283, 50283, 50283, 50283, 50283, 50283, 50283, 50283, 50283, 50283, 50283, 50283, 50283, 50283, 50283, 50283, 50283, 50283, 50283, 50283, 50283, 50283, 50283, 50283, 50283, 50283, 50283, 50283, 50283, 50283, 50283, 50283, 50283, 50283, 50283, 50283, 50283, 50283, 50283, 50283, 50283, 50283, 50283, 50283, 50283, 50283, 50283, 50283]\n"
     ]
    }
   ],
   "source": [
    "from pprint import pprint\n",
    "\n",
    "print(train_data[1]['input_ids'])"
   ]
  },
  {
   "cell_type": "code",
   "execution_count": 18,
   "metadata": {},
   "outputs": [
    {
     "name": "stderr",
     "output_type": "stream",
     "text": [
      "/Library/Frameworks/Python.framework/Versions/3.11/lib/python3.11/site-packages/transformers/training_args.py:1573: FutureWarning: `evaluation_strategy` is deprecated and will be removed in version 4.46 of 🤗 Transformers. Use `eval_strategy` instead\n",
      "  warnings.warn(\n",
      "/var/folders/9t/twdk9s5j48q6b_fpvb2syx9w0000gn/T/ipykernel_64431/1078681019.py:28: FutureWarning: `tokenizer` is deprecated and will be removed in version 5.0.0 for `Trainer.__init__`. Use `processing_class` instead.\n",
      "  trainer = Trainer(\n"
     ]
    }
   ],
   "source": [
    "from sklearn.metrics import accuracy_score, classification_report, f1_score, precision_recall_fscore_support\n",
    "from transformers import TrainingArguments, Trainer\n",
    "import numpy as np\n",
    "\n",
    "def compute_metrics(pred):\n",
    "    logits, labels = pred\n",
    "    predictions = np.argmax(logits, axis=-1)\n",
    "    precision, recall, f1, _ = precision_recall_fscore_support(labels, predictions, average=\"weighted\")\n",
    "    acc = accuracy_score(labels, predictions)\n",
    "    return {\"accuracy\": acc, \"f1\": f1, \"precision\": precision, \"recall\": recall}\n",
    "\n",
    "training_args = TrainingArguments(\n",
    "    output_dir=\"./results\",           # Directory to save the model\n",
    "    evaluation_strategy=\"epoch\",     # Evaluate at the end of each epoch\n",
    "    save_strategy=\"epoch\",           # Save model at the end of each epoch\n",
    "    #learning_rate=2e-5,              # Learning rate\n",
    "    learning_rate=1e-4,                 # Learning rate\n",
    "    per_device_train_batch_size=8,   # Batch size for training\n",
    "    per_device_eval_batch_size=8,    # Batch size for evaluation\n",
    "    num_train_epochs=3,              # Number of epochs\n",
    "    weight_decay=0.01,               # Weight decay\n",
    "    logging_dir=\"./logs\",            # Directory for logging\n",
    "    logging_steps=10,                # Log every 10 steps\n",
    "    load_best_model_at_end=True,     # Load the best model at the end of training\n",
    "    save_total_limit=2               # Limit the number of saved models\n",
    ")\n",
    "\n",
    "# Step 8: Initialize Trainer\n",
    "trainer = Trainer(\n",
    "    model=model,\n",
    "    args=training_args,\n",
    "    train_dataset=train_data,\n",
    "    eval_dataset=valid_data,\n",
    "    tokenizer=tokenizer,\n",
    "    compute_metrics=compute_metrics,\n",
    ")\n"
   ]
  },
  {
   "cell_type": "code",
   "execution_count": 19,
   "metadata": {},
   "outputs": [
    {
     "name": "stderr",
     "output_type": "stream",
     "text": [
      "  0%|          | 10/3840 [01:43<8:09:32,  7.67s/it]\n",
      "  0%|          | 10/3840 [01:43<8:09:32,  7.67s/it]"
     ]
    },
    {
     "name": "stdout",
     "output_type": "stream",
     "text": [
      "{'loss': 0.0, 'grad_norm': nan, 'learning_rate': 9.973958333333334e-05, 'epoch': 0.01}\n"
     ]
    },
    {
     "name": "stderr",
     "output_type": "stream",
     "text": [
      "  0%|          | 17/3840 [02:52<11:05:55, 10.45s/it]"
     ]
    }
   ],
   "source": [
    "trainer.train()\n"
   ]
  }
 ],
 "metadata": {
  "kernelspec": {
   "display_name": "Python 3",
   "language": "python",
   "name": "python3"
  },
  "language_info": {
   "codemirror_mode": {
    "name": "ipython",
    "version": 3
   },
   "file_extension": ".py",
   "mimetype": "text/x-python",
   "name": "python",
   "nbconvert_exporter": "python",
   "pygments_lexer": "ipython3",
   "version": "3.11.7"
  }
 },
 "nbformat": 4,
 "nbformat_minor": 2
}
