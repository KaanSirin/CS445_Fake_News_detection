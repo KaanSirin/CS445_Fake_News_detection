{
 "cells": [
  {
   "cell_type": "markdown",
   "metadata": {},
   "source": [
    "# Fake News Detection <font color='ecb400'> LIAR Dataset </font>"
   ]
  },
  {
   "cell_type": "code",
   "execution_count": 1,
   "metadata": {},
   "outputs": [],
   "source": [
    "import pandas as pd\n",
    "import numpy as np\n",
    "import matplotlib.pyplot as plt\n",
    "# using pandas but I prefer polars instead"
   ]
  },
  {
   "cell_type": "markdown",
   "metadata": {},
   "source": [
    "### <font color='AFBADC'> Preprocessing </font>"
   ]
  },
  {
   "cell_type": "code",
   "execution_count": 2,
   "metadata": {},
   "outputs": [],
   "source": [
    "column_names=[\n",
    "        'id',                # Column 1: the ID of the statement ([ID].json).\n",
    "        'label',             # Column 2: the label.\n",
    "        'statement',         # Column 3: the statement.\n",
    "        'subjects',          # Column 4: the subject(s).\n",
    "        'speaker',           # Column 5: the speaker.\n",
    "        'speaker_job_title', # Column 6: the speaker's job title.\n",
    "        'state_info',        # Column 7: the state info.\n",
    "        'party_affiliation', # Column 8: the party affiliation.\n",
    "        \n",
    "        # Column 9-13: the total credit history count, including the current statement.\n",
    "        'count_1', # barely true counts.\n",
    "        'count_2', # false counts.\n",
    "        'count_3', # half true counts.\n",
    "        'count_4', # mostly true counts.\n",
    "        'count_5', # pants on fire counts.\n",
    "\n",
    "        'context' # Column 14: the context (venue / location of the speech or statement).\n",
    "]\n",
    "\n",
    "# The data is already split into train, test, and validation sets.\n",
    "# [REFERENCE]: https://www.cs.ucsb.edu/~william/data/liar_dataset.zip\n",
    "# We are using this for convenience and consistency\n",
    "train_data = pd.read_csv('./liar_dataset/train.tsv', sep='\\t', header=None, names=column_names)\n",
    "test_data  = pd.read_csv('./liar_dataset/test.tsv',  sep='\\t', header=None, names=column_names)\n",
    "valid_data = pd.read_csv('./liar_dataset/valid.tsv', sep='\\t', header=None, names=column_names)"
   ]
  },
  {
   "cell_type": "code",
   "execution_count": 3,
   "metadata": {},
   "outputs": [
    {
     "data": {
      "text/html": [
       "<div>\n",
       "<style scoped>\n",
       "    .dataframe tbody tr th:only-of-type {\n",
       "        vertical-align: middle;\n",
       "    }\n",
       "\n",
       "    .dataframe tbody tr th {\n",
       "        vertical-align: top;\n",
       "    }\n",
       "\n",
       "    .dataframe thead th {\n",
       "        text-align: right;\n",
       "    }\n",
       "</style>\n",
       "<table border=\"1\" class=\"dataframe\">\n",
       "  <thead>\n",
       "    <tr style=\"text-align: right;\">\n",
       "      <th></th>\n",
       "      <th>id</th>\n",
       "      <th>label</th>\n",
       "      <th>statement</th>\n",
       "      <th>subjects</th>\n",
       "      <th>speaker</th>\n",
       "      <th>speaker_job_title</th>\n",
       "      <th>state_info</th>\n",
       "      <th>party_affiliation</th>\n",
       "      <th>count_1</th>\n",
       "      <th>count_2</th>\n",
       "      <th>count_3</th>\n",
       "      <th>count_4</th>\n",
       "      <th>count_5</th>\n",
       "      <th>context</th>\n",
       "    </tr>\n",
       "  </thead>\n",
       "  <tbody>\n",
       "    <tr>\n",
       "      <th>0</th>\n",
       "      <td>2635.json</td>\n",
       "      <td>false</td>\n",
       "      <td>Says the Annies List political group supports ...</td>\n",
       "      <td>abortion</td>\n",
       "      <td>dwayne-bohac</td>\n",
       "      <td>State representative</td>\n",
       "      <td>Texas</td>\n",
       "      <td>republican</td>\n",
       "      <td>0.0</td>\n",
       "      <td>1.0</td>\n",
       "      <td>0.0</td>\n",
       "      <td>0.0</td>\n",
       "      <td>0.0</td>\n",
       "      <td>a mailer</td>\n",
       "    </tr>\n",
       "    <tr>\n",
       "      <th>1</th>\n",
       "      <td>10540.json</td>\n",
       "      <td>half-true</td>\n",
       "      <td>When did the decline of coal start? It started...</td>\n",
       "      <td>energy,history,job-accomplishments</td>\n",
       "      <td>scott-surovell</td>\n",
       "      <td>State delegate</td>\n",
       "      <td>Virginia</td>\n",
       "      <td>democrat</td>\n",
       "      <td>0.0</td>\n",
       "      <td>0.0</td>\n",
       "      <td>1.0</td>\n",
       "      <td>1.0</td>\n",
       "      <td>0.0</td>\n",
       "      <td>a floor speech.</td>\n",
       "    </tr>\n",
       "    <tr>\n",
       "      <th>2</th>\n",
       "      <td>324.json</td>\n",
       "      <td>mostly-true</td>\n",
       "      <td>Hillary Clinton agrees with John McCain \"by vo...</td>\n",
       "      <td>foreign-policy</td>\n",
       "      <td>barack-obama</td>\n",
       "      <td>President</td>\n",
       "      <td>Illinois</td>\n",
       "      <td>democrat</td>\n",
       "      <td>70.0</td>\n",
       "      <td>71.0</td>\n",
       "      <td>160.0</td>\n",
       "      <td>163.0</td>\n",
       "      <td>9.0</td>\n",
       "      <td>Denver</td>\n",
       "    </tr>\n",
       "  </tbody>\n",
       "</table>\n",
       "</div>"
      ],
      "text/plain": [
       "           id        label                                          statement  \\\n",
       "0   2635.json        false  Says the Annies List political group supports ...   \n",
       "1  10540.json    half-true  When did the decline of coal start? It started...   \n",
       "2    324.json  mostly-true  Hillary Clinton agrees with John McCain \"by vo...   \n",
       "\n",
       "                             subjects         speaker     speaker_job_title  \\\n",
       "0                            abortion    dwayne-bohac  State representative   \n",
       "1  energy,history,job-accomplishments  scott-surovell        State delegate   \n",
       "2                      foreign-policy    barack-obama             President   \n",
       "\n",
       "  state_info party_affiliation  count_1  count_2  count_3  count_4  count_5  \\\n",
       "0      Texas        republican      0.0      1.0      0.0      0.0      0.0   \n",
       "1   Virginia          democrat      0.0      0.0      1.0      1.0      0.0   \n",
       "2   Illinois          democrat     70.0     71.0    160.0    163.0      9.0   \n",
       "\n",
       "           context  \n",
       "0         a mailer  \n",
       "1  a floor speech.  \n",
       "2           Denver  "
      ]
     },
     "execution_count": 3,
     "metadata": {},
     "output_type": "execute_result"
    }
   ],
   "source": [
    "train_data.head(3)"
   ]
  },
  {
   "cell_type": "markdown",
   "metadata": {},
   "source": [
    "<font size=4> Dropping some columns as I think they are posterior knowledge that shouldn't be included in the model </font>"
   ]
  },
  {
   "cell_type": "code",
   "execution_count": 4,
   "metadata": {},
   "outputs": [],
   "source": [
    "def drop_columns(data: pd.DataFrame) -> pd.DataFrame:\n",
    "    \"\"\"Drops columns that are not useful for training\"\"\"\n",
    "    data.drop(columns=[f'count_{i+1}' for i in range(5)], inplace=True)\n",
    "    return data\n",
    "\n",
    "train_data_bin = drop_columns(train_data)\n",
    "test_data_bin  = drop_columns(test_data)\n",
    "valid_data_bin = drop_columns(valid_data)"
   ]
  },
  {
   "cell_type": "markdown",
   "metadata": {},
   "source": [
    "<font size=5> For the initial baseline We'll start with binary classification\n",
    "\n",
    "<font size=3.5>[PolitiFact Descriptions of labels](https://www.politifact.com/article/2018/feb/12/principles-truth-o-meter-politifacts-methodology-i/#Truth-O-Meter%20ratings)\n",
    "\n",
    "<font size=3.5>[Binary grouping from paper in EMNLP](https://aclanthology.org/W18-5513.pdf)"
   ]
  },
  {
   "cell_type": "code",
   "execution_count": 5,
   "metadata": {},
   "outputs": [
    {
     "data": {
      "text/plain": [
       "label\n",
       "half-true      2114\n",
       "false          1995\n",
       "mostly-true    1962\n",
       "true           1676\n",
       "barely-true    1654\n",
       "pants-fire      839\n",
       "Name: count, dtype: int64"
      ]
     },
     "execution_count": 5,
     "metadata": {},
     "output_type": "execute_result"
    }
   ],
   "source": [
    "train_data['label'].value_counts()"
   ]
  },
  {
   "cell_type": "code",
   "execution_count": 6,
   "metadata": {},
   "outputs": [],
   "source": [
    "def binarize_labels(data_df: pd.DataFrame,six_way:bool=False) -> pd.DataFrame:\n",
    "    \"\"\"Reduces 6-way classification to binary classification\"\"\"\n",
    "    # We may change this if we want\n",
    "    # false_labels= ['barely-true', 'false', 'pants-fire']\n",
    "    data= data_df.copy(deep=True)\n",
    "    if not six_way:\n",
    "        true_labels= ['true', 'mostly-true', 'half-true']\n",
    "        data['label'] = data['label'].apply(lambda x: 1 if x in true_labels else 0)\n",
    "    else:\n",
    "        numerical={'pants-fire': 0, 'false': 1, 'barely-true': 2, 'half-true': 3, 'mostly-true': 4, 'true': 5}\n",
    "        data['label'] = data['label'].map(numerical)\n",
    "    \n",
    "    return data\n",
    "\n",
    "train_data_bin = binarize_labels(train_data)\n",
    "test_data_bin  = binarize_labels(test_data)\n",
    "valid_data_bin = binarize_labels(valid_data)"
   ]
  },
  {
   "cell_type": "code",
   "execution_count": 7,
   "metadata": {},
   "outputs": [
    {
     "data": {
      "text/plain": [
       "label\n",
       "1    5752\n",
       "0    4488\n",
       "Name: count, dtype: int64"
      ]
     },
     "execution_count": 7,
     "metadata": {},
     "output_type": "execute_result"
    }
   ],
   "source": [
    "train_data_bin['label'].value_counts()"
   ]
  },
  {
   "cell_type": "markdown",
   "metadata": {},
   "source": [
    "### Data Analysis"
   ]
  },
  {
   "cell_type": "markdown",
   "metadata": {},
   "source": [
    "<font size=3.5> Missingness Check</font>"
   ]
  },
  {
   "cell_type": "code",
   "execution_count": 8,
   "metadata": {},
   "outputs": [
    {
     "name": "stdout",
     "output_type": "stream",
     "text": [
      "id                      0\n",
      "label                   0\n",
      "statement               0\n",
      "subjects                2\n",
      "speaker                 2\n",
      "speaker_job_title    2898\n",
      "state_info           2210\n",
      "party_affiliation       2\n",
      "context               102\n",
      "dtype: int64\n"
     ]
    }
   ],
   "source": [
    "print(train_data_bin.isna().sum())"
   ]
  },
  {
   "cell_type": "code",
   "execution_count": 9,
   "metadata": {},
   "outputs": [
    {
     "data": {
      "image/png": "[encoded data removed]",
      "text/plain": [
       "<Figure size 500x300 with 1 Axes>"
      ]
     },
     "metadata": {},
     "output_type": "display_data"
    }
   ],
   "source": [
    "plt.figure(figsize=(5, 3))\n",
    "plt.hist(np.log10(train_data_bin[train_data_bin['label']==1]['statement'].apply(lambda x: len(x)).values), bins=50,color='teal',alpha=0.5)\n",
    "plt.hist(np.log10(train_data_bin[train_data_bin['label']==0]['statement'].apply(lambda x: len(x)).values), bins=50,color='hotpink',alpha=0.8)\n",
    "plt.legend(['True', 'False'])\n",
    "plt.xticks(np.arange(1, 4, 1), [f'$10^{i}$' for i in range(1,4)])\n",
    "plt.xlabel('Statement Length')\n",
    "plt.title('Binary T/F statements')\n",
    "plt.show()"
   ]
  },
  {
   "cell_type": "markdown",
   "metadata": {},
   "source": [
    "#### Meta Data Analysis"
   ]
  },
  {
   "cell_type": "code",
   "execution_count": 10,
   "metadata": {},
   "outputs": [
    {
     "data": {
      "text/html": [
       "<div>\n",
       "<style scoped>\n",
       "    .dataframe tbody tr th:only-of-type {\n",
       "        vertical-align: middle;\n",
       "    }\n",
       "\n",
       "    .dataframe tbody tr th {\n",
       "        vertical-align: top;\n",
       "    }\n",
       "\n",
       "    .dataframe thead th {\n",
       "        text-align: right;\n",
       "    }\n",
       "</style>\n",
       "<table border=\"1\" class=\"dataframe\">\n",
       "  <thead>\n",
       "    <tr style=\"text-align: right;\">\n",
       "      <th></th>\n",
       "      <th>true_percentage_bin</th>\n",
       "      <th>frequency</th>\n",
       "    </tr>\n",
       "    <tr>\n",
       "      <th>speaker</th>\n",
       "      <th></th>\n",
       "      <th></th>\n",
       "    </tr>\n",
       "  </thead>\n",
       "  <tbody>\n",
       "    <tr>\n",
       "      <th>barack-obama</th>\n",
       "      <td>0.731557</td>\n",
       "      <td>488</td>\n",
       "    </tr>\n",
       "    <tr>\n",
       "      <th>donald-trump</th>\n",
       "      <td>0.263736</td>\n",
       "      <td>273</td>\n",
       "    </tr>\n",
       "    <tr>\n",
       "      <th>hillary-clinton</th>\n",
       "      <td>0.736402</td>\n",
       "      <td>239</td>\n",
       "    </tr>\n",
       "    <tr>\n",
       "      <th>mitt-romney</th>\n",
       "      <td>0.590909</td>\n",
       "      <td>176</td>\n",
       "    </tr>\n",
       "    <tr>\n",
       "      <th>scott-walker</th>\n",
       "      <td>0.563758</td>\n",
       "      <td>149</td>\n",
       "    </tr>\n",
       "    <tr>\n",
       "      <th>john-mccain</th>\n",
       "      <td>0.574324</td>\n",
       "      <td>148</td>\n",
       "    </tr>\n",
       "    <tr>\n",
       "      <th>rick-perry</th>\n",
       "      <td>0.521127</td>\n",
       "      <td>142</td>\n",
       "    </tr>\n",
       "    <tr>\n",
       "      <th>chain-email</th>\n",
       "      <td>0.119718</td>\n",
       "      <td>142</td>\n",
       "    </tr>\n",
       "    <tr>\n",
       "      <th>marco-rubio</th>\n",
       "      <td>0.581197</td>\n",
       "      <td>117</td>\n",
       "    </tr>\n",
       "    <tr>\n",
       "      <th>rick-scott</th>\n",
       "      <td>0.617391</td>\n",
       "      <td>115</td>\n",
       "    </tr>\n",
       "  </tbody>\n",
       "</table>\n",
       "</div>"
      ],
      "text/plain": [
       "                 true_percentage_bin  frequency\n",
       "speaker                                        \n",
       "barack-obama                0.731557        488\n",
       "donald-trump                0.263736        273\n",
       "hillary-clinton             0.736402        239\n",
       "mitt-romney                 0.590909        176\n",
       "scott-walker                0.563758        149\n",
       "john-mccain                 0.574324        148\n",
       "rick-perry                  0.521127        142\n",
       "chain-email                 0.119718        142\n",
       "marco-rubio                 0.581197        117\n",
       "rick-scott                  0.617391        115"
      ]
     },
     "execution_count": 10,
     "metadata": {},
     "output_type": "execute_result"
    }
   ],
   "source": [
    "train_data_bin.groupby('speaker').agg(\n",
    "    true_percentage_bin=('label', 'mean'),\n",
    "    frequency=('speaker', 'count')\n",
    ").sort_values(by='frequency',ascending=False).head(10)\n"
   ]
  },
  {
   "cell_type": "code",
   "execution_count": 11,
   "metadata": {},
   "outputs": [
    {
     "data": {
      "text/html": [
       "<div>\n",
       "<style scoped>\n",
       "    .dataframe tbody tr th:only-of-type {\n",
       "        vertical-align: middle;\n",
       "    }\n",
       "\n",
       "    .dataframe tbody tr th {\n",
       "        vertical-align: top;\n",
       "    }\n",
       "\n",
       "    .dataframe thead th {\n",
       "        text-align: right;\n",
       "    }\n",
       "</style>\n",
       "<table border=\"1\" class=\"dataframe\">\n",
       "  <thead>\n",
       "    <tr style=\"text-align: right;\">\n",
       "      <th></th>\n",
       "      <th>true_percentage_bin</th>\n",
       "      <th>frequency</th>\n",
       "    </tr>\n",
       "    <tr>\n",
       "      <th>party_affiliation</th>\n",
       "      <th></th>\n",
       "      <th></th>\n",
       "    </tr>\n",
       "  </thead>\n",
       "  <tbody>\n",
       "    <tr>\n",
       "      <th>republican</th>\n",
       "      <td>0.501890</td>\n",
       "      <td>4497</td>\n",
       "    </tr>\n",
       "    <tr>\n",
       "      <th>democrat</th>\n",
       "      <td>0.662170</td>\n",
       "      <td>3336</td>\n",
       "    </tr>\n",
       "    <tr>\n",
       "      <th>none</th>\n",
       "      <td>0.509174</td>\n",
       "      <td>1744</td>\n",
       "    </tr>\n",
       "    <tr>\n",
       "      <th>organization</th>\n",
       "      <td>0.488584</td>\n",
       "      <td>219</td>\n",
       "    </tr>\n",
       "    <tr>\n",
       "      <th>independent</th>\n",
       "      <td>0.727891</td>\n",
       "      <td>147</td>\n",
       "    </tr>\n",
       "    <tr>\n",
       "      <th>newsmaker</th>\n",
       "      <td>0.660714</td>\n",
       "      <td>56</td>\n",
       "    </tr>\n",
       "    <tr>\n",
       "      <th>libertarian</th>\n",
       "      <td>0.675000</td>\n",
       "      <td>40</td>\n",
       "    </tr>\n",
       "    <tr>\n",
       "      <th>activist</th>\n",
       "      <td>0.641026</td>\n",
       "      <td>39</td>\n",
       "    </tr>\n",
       "    <tr>\n",
       "      <th>journalist</th>\n",
       "      <td>0.578947</td>\n",
       "      <td>38</td>\n",
       "    </tr>\n",
       "    <tr>\n",
       "      <th>columnist</th>\n",
       "      <td>0.542857</td>\n",
       "      <td>35</td>\n",
       "    </tr>\n",
       "  </tbody>\n",
       "</table>\n",
       "</div>"
      ],
      "text/plain": [
       "                   true_percentage_bin  frequency\n",
       "party_affiliation                                \n",
       "republican                    0.501890       4497\n",
       "democrat                      0.662170       3336\n",
       "none                          0.509174       1744\n",
       "organization                  0.488584        219\n",
       "independent                   0.727891        147\n",
       "newsmaker                     0.660714         56\n",
       "libertarian                   0.675000         40\n",
       "activist                      0.641026         39\n",
       "journalist                    0.578947         38\n",
       "columnist                     0.542857         35"
      ]
     },
     "execution_count": 11,
     "metadata": {},
     "output_type": "execute_result"
    }
   ],
   "source": [
    "train_data_bin.groupby('party_affiliation').agg(\n",
    "    true_percentage_bin=('label', 'mean'),\n",
    "    frequency=('speaker', 'count')\n",
    ").sort_values(by='frequency',ascending=False).head(10)\n"
   ]
  },
  {
   "cell_type": "code",
   "execution_count": 12,
   "metadata": {},
   "outputs": [
    {
     "data": {
      "text/html": [
       "<div>\n",
       "<style scoped>\n",
       "    .dataframe tbody tr th:only-of-type {\n",
       "        vertical-align: middle;\n",
       "    }\n",
       "\n",
       "    .dataframe tbody tr th {\n",
       "        vertical-align: top;\n",
       "    }\n",
       "\n",
       "    .dataframe thead th {\n",
       "        text-align: right;\n",
       "    }\n",
       "</style>\n",
       "<table border=\"1\" class=\"dataframe\">\n",
       "  <thead>\n",
       "    <tr style=\"text-align: right;\">\n",
       "      <th></th>\n",
       "      <th>true_percentage_bin</th>\n",
       "      <th>frequency</th>\n",
       "    </tr>\n",
       "    <tr>\n",
       "      <th>state_info</th>\n",
       "      <th></th>\n",
       "      <th></th>\n",
       "    </tr>\n",
       "  </thead>\n",
       "  <tbody>\n",
       "    <tr>\n",
       "      <th>Texas</th>\n",
       "      <td>0.537166</td>\n",
       "      <td>1009</td>\n",
       "    </tr>\n",
       "    <tr>\n",
       "      <th>Florida</th>\n",
       "      <td>0.598796</td>\n",
       "      <td>997</td>\n",
       "    </tr>\n",
       "    <tr>\n",
       "      <th>Wisconsin</th>\n",
       "      <td>0.509116</td>\n",
       "      <td>713</td>\n",
       "    </tr>\n",
       "    <tr>\n",
       "      <th>New York</th>\n",
       "      <td>0.497717</td>\n",
       "      <td>657</td>\n",
       "    </tr>\n",
       "    <tr>\n",
       "      <th>Illinois</th>\n",
       "      <td>0.714029</td>\n",
       "      <td>556</td>\n",
       "    </tr>\n",
       "    <tr>\n",
       "      <th>Ohio</th>\n",
       "      <td>0.673378</td>\n",
       "      <td>447</td>\n",
       "    </tr>\n",
       "    <tr>\n",
       "      <th>Georgia</th>\n",
       "      <td>0.629108</td>\n",
       "      <td>426</td>\n",
       "    </tr>\n",
       "    <tr>\n",
       "      <th>Virginia</th>\n",
       "      <td>0.552826</td>\n",
       "      <td>407</td>\n",
       "    </tr>\n",
       "    <tr>\n",
       "      <th>Rhode Island</th>\n",
       "      <td>0.582656</td>\n",
       "      <td>369</td>\n",
       "    </tr>\n",
       "    <tr>\n",
       "      <th>New Jersey</th>\n",
       "      <td>0.622407</td>\n",
       "      <td>241</td>\n",
       "    </tr>\n",
       "  </tbody>\n",
       "</table>\n",
       "</div>"
      ],
      "text/plain": [
       "              true_percentage_bin  frequency\n",
       "state_info                                  \n",
       "Texas                    0.537166       1009\n",
       "Florida                  0.598796        997\n",
       "Wisconsin                0.509116        713\n",
       "New York                 0.497717        657\n",
       "Illinois                 0.714029        556\n",
       "Ohio                     0.673378        447\n",
       "Georgia                  0.629108        426\n",
       "Virginia                 0.552826        407\n",
       "Rhode Island             0.582656        369\n",
       "New Jersey               0.622407        241"
      ]
     },
     "execution_count": 12,
     "metadata": {},
     "output_type": "execute_result"
    }
   ],
   "source": [
    "train_data_bin.groupby('state_info').agg(\n",
    "    true_percentage_bin=('label', 'mean'),\n",
    "    frequency=('speaker', 'count')\n",
    ").sort_values(by='frequency',ascending=False).head(10)\n"
   ]
  },
  {
   "cell_type": "markdown",
   "metadata": {},
   "source": [
    "### Crude Text Preprocessing withouth using any metadata"
   ]
  },
  {
   "cell_type": "code",
   "execution_count": 13,
   "metadata": {},
   "outputs": [],
   "source": [
    "from sklearn.model_selection import train_test_split\n",
    "\n",
    "X_train, y_train = train_data_bin['statement'], train_data_bin['label']\n",
    "X_test, y_test = test_data_bin['statement'], test_data_bin['label']"
   ]
  },
  {
   "cell_type": "code",
   "execution_count": 14,
   "metadata": {},
   "outputs": [],
   "source": [
    "from sklearn.feature_extraction.text import TfidfVectorizer\n",
    "\n",
    "vectorizer = TfidfVectorizer(max_features=1000)\n",
    "X_train = vectorizer.fit_transform(X_train)\n",
    "X_test = vectorizer.transform(X_test)\n",
    "\n"
   ]
  },
  {
   "cell_type": "markdown",
   "metadata": {},
   "source": [
    "Binary evalutions look too high for such a simple model\n",
    "\n",
    "I'll try 6 way"
   ]
  },
  {
   "cell_type": "code",
   "execution_count": 15,
   "metadata": {},
   "outputs": [
    {
     "name": "stdout",
     "output_type": "stream",
     "text": [
      "              precision    recall  f1-score   support\n",
      "\n",
      "           0       0.58      0.39      0.47       553\n",
      "           1       0.62      0.78      0.70       714\n",
      "\n",
      "    accuracy                           0.61      1267\n",
      "   macro avg       0.60      0.59      0.58      1267\n",
      "weighted avg       0.61      0.61      0.60      1267\n",
      "\n",
      "Acc:\t0.613\n",
      "F1:\t0.696\n"
     ]
    }
   ],
   "source": [
    "from sklearn.naive_bayes import MultinomialNB\n",
    "from sklearn.metrics import accuracy_score, classification_report, f1_score\n",
    "from sklearn.svm import SVC\n",
    "\n",
    "model = SVC()\n",
    "model = MultinomialNB()\n",
    "model.fit(X_train, y_train)\n",
    "\n",
    "y_pred = model.predict(X_test)\n",
    "print(classification_report(y_test, y_pred))\n",
    "\n",
    "print(f'Acc:\\t{accuracy_score(y_test, y_pred):.3}')\n",
    "print(f'F1:\\t{f1_score(y_test, y_pred):.3}')"
   ]
  },
  {
   "cell_type": "code",
   "execution_count": 23,
   "metadata": {},
   "outputs": [
    {
     "data": {
      "text/plain": [
       "array([[560, 154],\n",
       "       [336, 217]])"
      ]
     },
     "execution_count": 23,
     "metadata": {},
     "output_type": "execute_result"
    }
   ],
   "source": [
    "from sklearn.metrics import confusion_matrix\n",
    "\n",
    "confusion_matrix(y_test, y_pred)[::-1, ::-1]"
   ]
  },
  {
   "cell_type": "markdown",
   "metadata": {},
   "source": [
    "### 6-way Classification"
   ]
  },
  {
   "cell_type": "code",
   "execution_count": 16,
   "metadata": {},
   "outputs": [],
   "source": [
    "train_data_6= binarize_labels(train_data,True)\n",
    "test_data_6= binarize_labels(test_data,True)\n",
    "valid_data_6= binarize_labels(valid_data,True)"
   ]
  },
  {
   "cell_type": "code",
   "execution_count": 17,
   "metadata": {},
   "outputs": [],
   "source": [
    "X_train_6, y_train_6= train_data_6['statement'], train_data_6['label']\n",
    "X_test_6, y_test_6= test_data_6['statement'], test_data_6['label']\n"
   ]
  },
  {
   "cell_type": "code",
   "execution_count": 18,
   "metadata": {},
   "outputs": [],
   "source": [
    "vectorizer = TfidfVectorizer(max_features=1000)\n",
    "X_train_6 = vectorizer.fit_transform(X_train_6)\n",
    "X_test_6 = vectorizer.fit_transform(X_test_6)\n"
   ]
  },
  {
   "cell_type": "code",
   "execution_count": 19,
   "metadata": {},
   "outputs": [
    {
     "name": "stdout",
     "output_type": "stream",
     "text": [
      "              precision    recall  f1-score   support\n",
      "\n",
      "           0       0.13      0.02      0.04        92\n",
      "           1       0.21      0.24      0.23       249\n",
      "           2       0.15      0.11      0.13       212\n",
      "           3       0.24      0.39      0.30       265\n",
      "           4       0.17      0.16      0.16       241\n",
      "           5       0.16      0.11      0.13       208\n",
      "\n",
      "    accuracy                           0.20      1267\n",
      "   macro avg       0.18      0.17      0.16      1267\n",
      "weighted avg       0.18      0.20      0.18      1267\n",
      "\n",
      "Acc:\t0.199\n",
      "F1:\t0.184\n"
     ]
    }
   ],
   "source": [
    "model= MultinomialNB()\n",
    "model.fit(X_train_6, y_train_6)\n",
    "\n",
    "y_pred_6= model.predict(X_test_6)\n",
    "\n",
    "print(classification_report(y_test_6, y_pred_6))\n",
    "\n",
    "print(f'Acc:\\t{accuracy_score(y_test_6, y_pred_6):.3}')\n",
    "print(f'F1:\\t{f1_score(y_test_6, y_pred_6,average=\"weighted\"):.3}')"
   ]
  },
  {
   "cell_type": "markdown",
   "metadata": {},
   "source": [
    "Much more realistic result, \n",
    "\n",
    "Would this mean that binary classification performance is also accurate?"
   ]
  },
  {
   "cell_type": "code",
   "execution_count": null,
   "metadata": {},
   "outputs": [],
   "source": []
  }
 ],
 "metadata": {
  "kernelspec": {
   "display_name": ".venv",
   "language": "python",
   "name": "python3"
  },
  "language_info": {
   "codemirror_mode": {
    "name": "ipython",
    "version": 3
   },
   "file_extension": ".py",
   "mimetype": "text/x-python",
   "name": "python",
   "nbconvert_exporter": "python",
   "pygments_lexer": "ipython3",
   "version": "3.12.7"
  }
 },
 "nbformat": 4,
 "nbformat_minor": 2
}
