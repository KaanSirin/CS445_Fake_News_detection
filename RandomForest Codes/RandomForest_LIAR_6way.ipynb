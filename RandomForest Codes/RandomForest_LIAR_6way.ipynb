{
  "nbformat": 4,
  "nbformat_minor": 0,
  "metadata": {
    "colab": {
      "provenance": []
    },
    "kernelspec": {
      "name": "python3",
      "display_name": "Python 3"
    },
    "language_info": {
      "name": "python"
    }
  },
  "cells": [
    {
      "cell_type": "code",
      "execution_count": 2,
      "metadata": {
        "id": "28bMoRRFcIJB"
      },
      "outputs": [],
      "source": [
        "import pandas as pd\n",
        "from sklearn.ensemble import RandomForestClassifier\n",
        "from sklearn.metrics import classification_report, accuracy_score, f1_score, precision_score, recall_score, confusion_matrix\n",
        "from sklearn.feature_extraction.text import TfidfVectorizer\n",
        "from sklearn.model_selection import GridSearchCV\n",
        "import matplotlib.pyplot as plt\n",
        "import seaborn as sns"
      ]
    },
    {
      "cell_type": "code",
      "source": [
        "# Load datasets\n",
        "train_data = pd.read_csv('train_six_way.csv')\n",
        "val_data = pd.read_csv('valid_six_way.csv')\n",
        "test_data = pd.read_csv('test_six_way.csv')"
      ],
      "metadata": {
        "id": "jVKEZ37EcSdo"
      },
      "execution_count": 4,
      "outputs": []
    },
    {
      "cell_type": "code",
      "source": [
        "# Inspect data to identify relevant columns\n",
        "print(train_data.head())"
      ],
      "metadata": {
        "colab": {
          "base_uri": "https://localhost:8080/"
        },
        "id": "mF5ZzKUhgoWB",
        "outputId": "d4920e9a-f897-44e2-e2f2-23d82e3b8219"
      },
      "execution_count": 5,
      "outputs": [
        {
          "output_type": "stream",
          "name": "stdout",
          "text": [
            "   label                                          statement\n",
            "0      1  Says the Annies List political group supports ...\n",
            "1      3  When did the decline of coal start? It started...\n",
            "2      4  Hillary Clinton agrees with John McCain \"by vo...\n",
            "3      1  Health care reform legislation is likely to ma...\n",
            "4      3  The economic turnaround started at the end of ...\n"
          ]
        }
      ]
    },
    {
      "cell_type": "code",
      "source": [
        "# Extract features and labels\n",
        "X_train = train_data['statement']\n",
        "y_train = train_data['label']\n",
        "X_val = val_data['statement']\n",
        "y_val = val_data['label']\n",
        "X_test = test_data['statement']\n",
        "y_test = test_data['label']\n",
        "\n",
        "# Combine train and validation data for Grid Search\n",
        "X_combined = pd.concat([X_train, X_val])\n",
        "y_combined = pd.concat([y_train, y_val])"
      ],
      "metadata": {
        "id": "LX0BNo3JchIt"
      },
      "execution_count": 6,
      "outputs": []
    },
    {
      "cell_type": "code",
      "source": [
        "# Text vectorization using TF-IDF\n",
        "vectorizer = TfidfVectorizer(max_features=5000)\n",
        "X_combined_vectorized = vectorizer.fit_transform(X_combined)\n",
        "X_test_vectorized = vectorizer.transform(X_test)"
      ],
      "metadata": {
        "id": "jkK_NfHGcjS8"
      },
      "execution_count": 7,
      "outputs": []
    },
    {
      "cell_type": "code",
      "source": [
        "def evaluate_model(model, X_test, y_test, model_name):\n",
        "    y_pred = model.predict(X_test)\n",
        "    y_pred_classes = model.predict(X_test)\n",
        "\n",
        "    acc = accuracy_score(y_test, y_pred_classes)\n",
        "    f1 = f1_score(y_test, y_pred_classes, average='weighted')\n",
        "    precision = precision_score(y_test, y_pred_classes, average='weighted')\n",
        "    recall = recall_score(y_test, y_pred_classes, average='weighted')\n",
        "\n",
        "    print(f\"\\n=== {model_name} Performance ===\")\n",
        "    print(f\"Accuracy: {acc:.4f}\")\n",
        "    print(f\"F1-Score: {f1:.4f}\")\n",
        "    print(f\"Precision: {precision:.4f}\")\n",
        "    print(f\"Recall: {recall:.4f}\")\n",
        "    print(\"\\nClassification Report:\")\n",
        "    print(classification_report(y_test, y_pred_classes))\n",
        "\n",
        "    cm = confusion_matrix(y_test, y_pred_classes)\n",
        "    plt.figure(figsize=(10, 8))\n",
        "    sns.heatmap(cm, annot=True, fmt='d', cmap='Blues')\n",
        "    plt.xlabel('Predicted')\n",
        "    plt.ylabel('True')\n",
        "    plt.title(f'Confusion Matrix for {model_name}')\n",
        "    plt.show()\n",
        "\n",
        "    return acc, f1, precision, recall"
      ],
      "metadata": {
        "id": "ssaakYrbqT-k"
      },
      "execution_count": 12,
      "outputs": []
    },
    {
      "cell_type": "code",
      "source": [
        "# Perform Grid Search to find best hyperparameters\n",
        "param_grid = {\n",
        "    'n_estimators': [100, 300, 500],\n",
        "    'max_depth': [10, 20, 30],\n",
        "    'min_samples_split': [2, 5, 10],\n",
        "    'min_samples_leaf': [1, 5, 10],\n",
        "    'max_features': ['sqrt', 'log2']\n",
        "}\n",
        "\n",
        "grid_search = GridSearchCV(estimator=RandomForestClassifier(random_state=42),\n",
        "                           param_grid=param_grid,\n",
        "                           cv=5,  # 5-fold cross-validation\n",
        "                           scoring='accuracy',\n",
        "                           n_jobs=-1)\n",
        "\n",
        "grid_search.fit(X_combined_vectorized, y_combined)\n",
        "\n",
        "# Best model from Grid Search\n",
        "best_model = grid_search.best_estimator_\n",
        "print(\"Best Parameters:\", grid_search.best_params_)"
      ],
      "metadata": {
        "colab": {
          "base_uri": "https://localhost:8080/"
        },
        "id": "iZQgaE8Xg1TN",
        "outputId": "0ee3c73e-44c8-4d04-81eb-a37a38390167"
      },
      "execution_count": 8,
      "outputs": [
        {
          "output_type": "stream",
          "name": "stdout",
          "text": [
            "Best Parameters: {'max_depth': 30, 'max_features': 'sqrt', 'min_samples_leaf': 1, 'min_samples_split': 5, 'n_estimators': 500}\n"
          ]
        }
      ]
    },
    {
      "cell_type": "code",
      "source": [
        "# Extract best estimator for Random Forest\n",
        "best_model = grid_search.best_estimator_\n",
        "cv_accuracy_rf = grid_search.best_score_\n",
        "acc_rf, f1_rf, precision_rf, recall_rf = evaluate_model(best_model, X_test_vectorized, y_test, 'RandomForest')\n",
        "\n",
        "rf_results = {\n",
        "    'Model': 'RandomForest',\n",
        "    'Best Params': grid_search.best_params_,\n",
        "    'CV Accuracy': cv_accuracy_rf,\n",
        "    'Test Accuracy': acc_rf,\n",
        "    'Test F1-Score': f1_rf,\n",
        "    'Precision': precision_rf,\n",
        "    'Recall': recall_rf\n",
        "}\n",
        "\n",
        "print(\"\\nRandom Forest Results:\")\n",
        "print(rf_results)"
      ],
      "metadata": {
        "colab": {
          "base_uri": "https://localhost:8080/",
          "height": 1000
        },
        "id": "STgRep9Kg4mU",
        "outputId": "ec48fa96-4206-4aee-cb8a-65e4d9ac9633"
      },
      "execution_count": 15,
      "outputs": [
        {
          "output_type": "stream",
          "name": "stdout",
          "text": [
            "\n",
            "=== RandomForest Performance ===\n",
            "Accuracy: 0.2715\n",
            "F1-Score: 0.2321\n",
            "Precision: 0.2751\n",
            "Recall: 0.2715\n",
            "\n",
            "Classification Report:\n",
            "              precision    recall  f1-score   support\n",
            "\n",
            "           0       0.44      0.18      0.26        92\n",
            "           1       0.28      0.45      0.35       249\n",
            "           2       0.27      0.04      0.07       212\n",
            "           3       0.25      0.46      0.32       265\n",
            "           4       0.27      0.33      0.30       241\n",
            "           5       0.23      0.03      0.05       208\n",
            "\n",
            "    accuracy                           0.27      1267\n",
            "   macro avg       0.29      0.25      0.23      1267\n",
            "weighted avg       0.28      0.27      0.23      1267\n",
            "\n"
          ]
        },
        {
          "output_type": "display_data",
          "data": {
            "text/plain": [
              "<Figure size 1000x800 with 2 Axes>"
            ],
            "image/png": "[encoded data removed]"
          },
          "metadata": {}
        },
        {
          "output_type": "stream",
          "name": "stdout",
          "text": [
            "\n",
            "Random Forest Results:\n",
            "{'Model': 'RandomForest', 'Best Params': {'max_depth': 30, 'max_features': 'sqrt', 'min_samples_leaf': 1, 'min_samples_split': 5, 'n_estimators': 500}, 'CV Accuracy': 0.27108749849361286, 'Test Accuracy': 0.27150749802683505, 'Test F1-Score': 0.23210082837524795, 'Precision': 0.27506744246118303, 'Recall': 0.27150749802683505}\n"
          ]
        }
      ]
    }
  ]
}