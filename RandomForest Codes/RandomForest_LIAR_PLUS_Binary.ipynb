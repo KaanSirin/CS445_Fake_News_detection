{
  "nbformat": 4,
  "nbformat_minor": 0,
  "metadata": {
    "colab": {
      "provenance": []
    },
    "kernelspec": {
      "name": "python3",
      "display_name": "Python 3"
    },
    "language_info": {
      "name": "python"
    }
  },
  "cells": [
    {
      "cell_type": "code",
      "execution_count": 7,
      "metadata": {
        "id": "28bMoRRFcIJB"
      },
      "outputs": [],
      "source": [
        "import pandas as pd\n",
        "from sklearn.ensemble import RandomForestClassifier\n",
        "from sklearn.metrics import classification_report, accuracy_score, f1_score, precision_score, recall_score, confusion_matrix\n",
        "from sklearn.feature_extraction.text import TfidfVectorizer\n",
        "from sklearn.model_selection import RandomizedSearchCV\n",
        "import matplotlib.pyplot as plt\n",
        "import seaborn as sns\n",
        "import time"
      ]
    },
    {
      "cell_type": "code",
      "source": [
        "# Load datasets\n",
        "train_data = pd.read_csv('train2_binary.csv')\n",
        "val_data = pd.read_csv('valid2_binary.csv')\n",
        "test_data = pd.read_csv('test2_binary.csv')"
      ],
      "metadata": {
        "id": "jVKEZ37EcSdo"
      },
      "execution_count": 2,
      "outputs": []
    },
    {
      "cell_type": "code",
      "source": [
        "# Inspect data to identify relevant columns\n",
        "print(train_data.head())"
      ],
      "metadata": {
        "colab": {
          "base_uri": "https://localhost:8080/"
        },
        "id": "mF5ZzKUhgoWB",
        "outputId": "7d850c90-dfe2-4c9b-a916-df2397f294d8"
      },
      "execution_count": 3,
      "outputs": [
        {
          "output_type": "stream",
          "name": "stdout",
          "text": [
            "   label                                          statement  __index_level_0__\n",
            "0    0.0  Says the Annies List political group supports ...                0.0\n",
            "1    1.0  When did the decline of coal start? It started...                1.0\n",
            "2    1.0  Hillary Clinton agrees with John McCain \"by vo...                2.0\n",
            "3    0.0  Health care reform legislation is likely to ma...                3.0\n",
            "4    1.0  The economic turnaround started at the end of ...                4.0\n"
          ]
        }
      ]
    },
    {
      "cell_type": "code",
      "source": [
        "# Extract features and labels\n",
        "X_train = train_data['statement']\n",
        "y_train = train_data['label']\n",
        "X_val = val_data['statement']\n",
        "y_val = val_data['label']\n",
        "X_test = test_data['statement']\n",
        "y_test = test_data['label']\n",
        "\n",
        "# Combine train and validation data for Grid Search\n",
        "X_combined = pd.concat([X_train, X_val])\n",
        "y_combined = pd.concat([y_train, y_val])"
      ],
      "metadata": {
        "id": "LX0BNo3JchIt"
      },
      "execution_count": 4,
      "outputs": []
    },
    {
      "cell_type": "code",
      "source": [
        "# Text vectorization using TF-IDF\n",
        "vectorizer = TfidfVectorizer(max_features=5000)\n",
        "X_combined_vectorized = vectorizer.fit_transform(X_combined)\n",
        "X_test_vectorized = vectorizer.transform(X_test)"
      ],
      "metadata": {
        "id": "jkK_NfHGcjS8"
      },
      "execution_count": 5,
      "outputs": []
    },
    {
      "cell_type": "code",
      "source": [
        "# Perform Randomized Search to find best hyperparameters for Random Forest\n",
        "param_dist_rf = {\n",
        "    'n_estimators': [100, 200, 300, 400, 500],\n",
        "    'max_depth': [10, 20, 30, 40, 50],\n",
        "    'min_samples_split': [2, 5, 10],\n",
        "    'min_samples_leaf': [1, 2, 4, 6],\n",
        "    'max_features': ['sqrt', 'log2']\n",
        "}\n",
        "\n",
        "start_rf = time.time()\n",
        "random_search_rf = RandomizedSearchCV(estimator=RandomForestClassifier(random_state=42),\n",
        "                                      param_distributions=param_dist_rf,\n",
        "                                      n_iter=30,\n",
        "                                      cv=5,\n",
        "                                      scoring='accuracy',\n",
        "                                      n_jobs=-1,\n",
        "                                      random_state=42)\n",
        "\n",
        "random_search_rf.fit(X_combined_vectorized, y_combined)\n",
        "end_rf = time.time()\n",
        "print(f\"Random Forest Randomized Search Time: {end_rf - start_rf:.2f} seconds\")"
      ],
      "metadata": {
        "id": "iZQgaE8Xg1TN",
        "colab": {
          "base_uri": "https://localhost:8080/"
        },
        "outputId": "deaaab0b-8c32-4e1a-87a4-0709191e3b8c"
      },
      "execution_count": 8,
      "outputs": [
        {
          "output_type": "stream",
          "name": "stdout",
          "text": [
            "Random Forest Randomized Search Time: 944.19 seconds\n"
          ]
        }
      ]
    },
    {
      "cell_type": "code",
      "source": [
        "def evaluate_model(model, X_test, y_test, model_name):\n",
        "    y_pred = model.predict(X_test)\n",
        "    y_pred_classes = model.predict(X_test)\n",
        "\n",
        "    acc = accuracy_score(y_test, y_pred_classes)\n",
        "    f1 = f1_score(y_test, y_pred_classes, average='weighted')\n",
        "    precision = precision_score(y_test, y_pred_classes, average='weighted')\n",
        "    recall = recall_score(y_test, y_pred_classes, average='weighted')\n",
        "\n",
        "    print(f\"\\n=== {model_name} Performance ===\")\n",
        "    print(f\"Accuracy: {acc:.4f}\")\n",
        "    print(f\"F1-Score: {f1:.4f}\")\n",
        "    print(f\"Precision: {precision:.4f}\")\n",
        "    print(f\"Recall: {recall:.4f}\")\n",
        "    print(\"\\nClassification Report:\")\n",
        "    print(classification_report(y_test, y_pred_classes))\n",
        "\n",
        "    cm = confusion_matrix(y_test, y_pred_classes)\n",
        "    plt.figure(figsize=(10, 8))\n",
        "    sns.heatmap(cm, annot=True, fmt='d', cmap='Blues')\n",
        "    plt.xlabel('Predicted')\n",
        "    plt.ylabel('True')\n",
        "    plt.title(f'Confusion Matrix for {model_name}')\n",
        "    plt.show()\n",
        "\n",
        "    return acc, f1, precision, recall"
      ],
      "metadata": {
        "id": "9IbUAyAGwcQn"
      },
      "execution_count": 10,
      "outputs": []
    },
    {
      "cell_type": "code",
      "source": [
        "# Extract best estimator for Random Forest\n",
        "best_rf = random_search_rf .best_estimator_\n",
        "cv_accuracy_rf = random_search_rf .best_score_\n",
        "y_test_pred_rf = best_rf.predict(X_test_vectorized)\n",
        "\n",
        "acc_rf = accuracy_score(y_test, y_test_pred_rf)\n",
        "f1_rf = f1_score(y_test, y_test_pred_rf, average='weighted')\n",
        "precision_rf = precision_score(y_test, y_test_pred_rf, average='weighted')\n",
        "recall_rf = recall_score(y_test, y_test_pred_rf, average='weighted')\n",
        "\n",
        "print(f\"\\n=== RandomForest Performance ===\")\n",
        "print(f\"Accuracy: {acc_rf:.4f}\")\n",
        "print(f\"F1-Score: {f1_rf:.4f}\")\n",
        "print(f\"Precision: {precision_rf:.4f}\")\n",
        "print(f\"Recall: {recall_rf:.4f}\")\n",
        "print(\"\\nClassification Report:\")\n",
        "print(classification_report(y_test, y_test_pred_rf))\n",
        "\n",
        "cm_rf = confusion_matrix(y_test, y_test_pred_rf)\n",
        "plt.figure(figsize=(10, 8))\n",
        "sns.heatmap(cm_rf, annot=True, fmt='d', cmap='Blues')\n",
        "plt.xlabel('Predicted')\n",
        "plt.ylabel('True')\n",
        "plt.title('Confusion Matrix for Best Random Forest Model')\n",
        "plt.show()\n",
        "\n",
        "rf_results = {\n",
        "    'Model': 'RandomForest',\n",
        "    'Best Params': random_search_rf .best_params_,\n",
        "    'CV Accuracy': cv_accuracy_rf,\n",
        "    'Test Accuracy': acc_rf,\n",
        "    'Test F1-Score': f1_rf,\n",
        "    'Precision': precision_rf,\n",
        "    'Recall': recall_rf\n",
        "}\n",
        "\n",
        "print(\"\\nRandom Forest Results:\")\n",
        "print(rf_results)"
      ],
      "metadata": {
        "id": "STgRep9Kg4mU",
        "colab": {
          "base_uri": "https://localhost:8080/",
          "height": 943
        },
        "outputId": "974822e9-2588-4c86-a7ba-3b46fa84d76d"
      },
      "execution_count": 12,
      "outputs": [
        {
          "output_type": "stream",
          "name": "stdout",
          "text": [
            "\n",
            "=== RandomForest Performance ===\n",
            "Accuracy: 0.6290\n",
            "F1-Score: 0.5850\n",
            "Precision: 0.6471\n",
            "Recall: 0.6290\n",
            "\n",
            "Classification Report:\n",
            "              precision    recall  f1-score   support\n",
            "\n",
            "           0       0.69      0.28      0.39       553\n",
            "           1       0.62      0.90      0.73       714\n",
            "\n",
            "    accuracy                           0.63      1267\n",
            "   macro avg       0.65      0.59      0.56      1267\n",
            "weighted avg       0.65      0.63      0.58      1267\n",
            "\n"
          ]
        },
        {
          "output_type": "display_data",
          "data": {
            "text/plain": [
              "<Figure size 1000x800 with 2 Axes>"
            ],
            "image/png": "[encoded data removed]"
          },
          "metadata": {}
        },
        {
          "output_type": "stream",
          "name": "stdout",
          "text": [
            "\n",
            "Random Forest Results:\n",
            "{'Model': 'RandomForest', 'Best Params': {'n_estimators': 500, 'min_samples_split': 10, 'min_samples_leaf': 6, 'max_features': 'sqrt', 'max_depth': 50}, 'CV Accuracy': 0.6095988114605929, 'Test Accuracy': 0.6290449881610103, 'Test F1-Score': 0.5849858413386257, 'Precision': 0.6470791931041887, 'Recall': 0.6290449881610103}\n"
          ]
        }
      ]
    }
  ]
}